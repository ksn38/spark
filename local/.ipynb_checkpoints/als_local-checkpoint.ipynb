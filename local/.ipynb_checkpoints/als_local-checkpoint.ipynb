{
 "cells": [
  {
   "cell_type": "code",
   "execution_count": 14,
   "metadata": {},
   "outputs": [],
   "source": [
    "import findspark\n",
    "findspark.init()\n",
    "import pandas as pd\n",
    "from pyspark.sql.functions import col, explode\n",
    "from pyspark import SparkContext\n",
    "from pyspark.sql import functions as F\n",
    "from pyspark.ml import Pipeline, PipelineModel\n",
    "import time"
   ]
  },
  {
   "cell_type": "markdown",
   "metadata": {},
   "source": [
    "### Initiate spark session"
   ]
  },
  {
   "cell_type": "code",
   "execution_count": 3,
   "metadata": {},
   "outputs": [],
   "source": [
    "from pyspark.sql import SparkSession\n",
    "sc = SparkContext\n",
    "# sc.setCheckpointDir('checkpoint')\n",
    "spark = SparkSession.builder.appName('Recommendations').getOrCreate()"
   ]
  },
  {
   "cell_type": "markdown",
   "metadata": {},
   "source": [
    "# 1. Load data"
   ]
  },
  {
   "cell_type": "code",
   "execution_count": 9,
   "metadata": {},
   "outputs": [
    {
     "name": "stdout",
     "output_type": "stream",
     "text": [
      "+-------+-----------+---+-------+--------+-----------+--------+-----------+----------+-------+-----------+-----------------+\n",
      "|user_id|  basket_id|day|item_id|quantity|sales_value|store_id|retail_disc|trans_time|week_no|coupon_disc|coupon_match_disc|\n",
      "+-------+-----------+---+-------+--------+-----------+--------+-----------+----------+-------+-----------+-----------------+\n",
      "|   2375|26984851472|  1|1004906|       1|       1.39|     364|       -0.6|      1631|      1|          0|                0|\n",
      "|   2375|26984851472|  1|1033142|       1|       0.82|     364|          0|      1631|      1|          0|                0|\n",
      "|   2375|26984851472|  1|1036325|       1|       0.99|     364|       -0.3|      1631|      1|          0|                0|\n",
      "+-------+-----------+---+-------+--------+-----------+--------+-----------+----------+-------+-----------+-----------------+\n",
      "only showing top 3 rows\n",
      "\n"
     ]
    }
   ],
   "source": [
    "data0 = spark.read.csv(\"/home/ksn38/data/transaction_data.csv\", header=True)\n",
    "data0 = data0.toDF(*[col.lower() for col in data0.columns])\n",
    "data0 = data0.withColumnRenamed('product_id','item_id').withColumnRenamed('household_key','user_id')\n",
    "data0.show(3)"
   ]
  },
  {
   "cell_type": "code",
   "execution_count": 10,
   "metadata": {},
   "outputs": [
    {
     "name": "stdout",
     "output_type": "stream",
     "text": [
      "root\n",
      " |-- user_id: string (nullable = true)\n",
      " |-- basket_id: string (nullable = true)\n",
      " |-- day: string (nullable = true)\n",
      " |-- item_id: string (nullable = true)\n",
      " |-- quantity: string (nullable = true)\n",
      " |-- sales_value: string (nullable = true)\n",
      " |-- store_id: string (nullable = true)\n",
      " |-- retail_disc: string (nullable = true)\n",
      " |-- trans_time: string (nullable = true)\n",
      " |-- week_no: string (nullable = true)\n",
      " |-- coupon_disc: string (nullable = true)\n",
      " |-- coupon_match_disc: string (nullable = true)\n",
      "\n"
     ]
    }
   ],
   "source": [
    "data0.printSchema()"
   ]
  },
  {
   "cell_type": "code",
   "execution_count": 12,
   "metadata": {},
   "outputs": [
    {
     "name": "stdout",
     "output_type": "stream",
     "text": [
      "+-------+---------+---+-------+--------+-----------+--------+-----------+-------+-----------+-----------------+\n",
      "|user_id|basket_id|day|item_id|quantity|sales_value|store_id|retail_disc|week_no|coupon_disc|coupon_match_disc|\n",
      "+-------+---------+---+-------+--------+-----------+--------+-----------+-------+-----------+-----------------+\n",
      "|   2375|     null|  1|1004906|       1|       1.39|     364|       -0.6|      1|          0|              0.0|\n",
      "|   2375|     null|  1|1033142|       1|       0.82|     364|        0.0|      1|          0|              0.0|\n",
      "|   2375|     null|  1|1036325|       1|       0.99|     364|       -0.3|      1|          0|              0.0|\n",
      "+-------+---------+---+-------+--------+-----------+--------+-----------+-------+-----------+-----------------+\n",
      "only showing top 3 rows\n",
      "\n"
     ]
    }
   ],
   "source": [
    "data0 = data0.\\\n",
    "    withColumn('user_id', col('user_id').cast('integer')).\\\n",
    "    withColumn('basket_id', col('basket_id').cast('integer')).\\\n",
    "    withColumn('day', col('day').cast('integer')).\\\n",
    "    withColumn('item_id', col('item_id').cast('integer')).\\\n",
    "    withColumn('quantity', col('quantity').cast('integer')).\\\n",
    "    withColumn('sales_value', col('sales_value').cast('float')).\\\n",
    "    withColumn('store_id', col('store_id').cast('integer')).\\\n",
    "    withColumn('retail_disc', col('retail_disc').cast('float')).\\\n",
    "    withColumn('week_no', col('week_no').cast('integer')).\\\n",
    "    withColumn('coupon_disc', col('coupon_disc').cast('integer')).\\\n",
    "    withColumn('coupon_match_disc', col('coupon_match_disc').cast('float')).\\\n",
    "    drop('trans_time')\n",
    "data0.show(3)"
   ]
  },
  {
   "cell_type": "code",
   "execution_count": 14,
   "metadata": {},
   "outputs": [
    {
     "name": "stdout",
     "output_type": "stream",
     "text": [
      "+-------+------------------+---------+------------------+-----------------+--------+------------------+-----------------+-------------------+------------------+--------------------+--------------------+\n",
      "|summary|           user_id|basket_id|               day|          item_id|quantity|       sales_value|         store_id|        retail_disc|           week_no|         coupon_disc|   coupon_match_disc|\n",
      "+-------+------------------+---------+------------------+-----------------+--------+------------------+-----------------+-------------------+------------------+--------------------+--------------------+\n",
      "|  count|           2595732|        0|           2595732|          2595732| 2595732|           2595732|          2595732|            2595732|           2595732|             2595732|             2595732|\n",
      "|   mean|1271.9525170549193|     null| 388.7562217517063|2891435.159594673|     1.0|3.1041197828967073|3142.673210870768|-0.5387053984379715|56.221498983716344|-0.01199122251449...|-0.00291856400251...|\n",
      "| stddev|  726.065964887359|     null|189.72099531194107|3837403.688955565|     0.0| 4.182274102707209|8937.113295657933|  1.249191441884955| 27.10222789961069| 0.19959461770023212|  0.0396900430309949|\n",
      "|    min|                 1|     null|                 1|            25671|       1|               0.0|                1|             -180.0|                 1|                 -55|                -7.7|\n",
      "|    max|              2500|     null|               711|         18316298|       1|             840.0|            34280|               3.99|               102|                   0|                 0.0|\n",
      "+-------+------------------+---------+------------------+-----------------+--------+------------------+-----------------+-------------------+------------------+--------------------+--------------------+\n",
      "\n"
     ]
    }
   ],
   "source": [
    "data0.describe().show()"
   ]
  },
  {
   "cell_type": "code",
   "execution_count": 15,
   "metadata": {},
   "outputs": [
    {
     "data": {
      "image/png": "[encoded data removed]",
      "text/plain": [
       "<Figure size 432x288 with 1 Axes>"
      ]
     },
     "metadata": {
      "needs_background": "light"
     },
     "output_type": "display_data"
    }
   ],
   "source": [
    "import matplotlib.pyplot as plt\n",
    "\n",
    "quantity_arr = [int(x.quantity) for x in data0.select('quantity').collect()]\n",
    "plt.hist(quantity_arr)\n",
    "plt.show()"
   ]
  },
  {
   "cell_type": "code",
   "execution_count": 9,
   "metadata": {},
   "outputs": [],
   "source": [
    "# week_no_arr = [int(x.week_no) for x in data.select('week_no').collect()]\n",
    "# plt.hist(week_no_arr)\n",
    "# plt.show()"
   ]
  },
  {
   "cell_type": "code",
   "execution_count": 15,
   "metadata": {},
   "outputs": [],
   "source": [
    "data = data0.withColumn('quantity', F.when(F.col(\"quantity\") != 1, 1).otherwise(F.col(\"quantity\")))"
   ]
  },
  {
   "cell_type": "markdown",
   "metadata": {},
   "source": [
    "## Calculate sparsity"
   ]
  },
  {
   "cell_type": "code",
   "execution_count": 17,
   "metadata": {},
   "outputs": [
    {
     "name": "stdout",
     "output_type": "stream",
     "text": [
      "numerator 2595732\n",
      "num_users 2500\n",
      "num_items 92339\n",
      "denominator 230847500\n",
      "The data dataframe is  98.88% empty.\n"
     ]
    }
   ],
   "source": [
    "# Count the total number of data in the dataset\n",
    "numerator = data1.select(\"quantity\").count()\n",
    "print('numerator', numerator)\n",
    "\n",
    "# Count the number of distinct userIds and distinct movieIds\n",
    "num_users = data1.select(\"user_id\").distinct().count()\n",
    "num_items = data1.select(\"item_id\").distinct().count()\n",
    "print('num_users', num_users)\n",
    "print('num_items', num_items)\n",
    "\n",
    "# Set the denominator equal to the number of users multiplied by the number of movies\n",
    "denominator = num_users * num_items\n",
    "print('denominator', denominator)\n",
    "\n",
    "# Divide the numerator by the denominator\n",
    "sparsity = (1.0 - (numerator *1.0)/denominator)*100\n",
    "print(\"The data dataframe is \", \"%.2f\" % sparsity + \"% empty.\")"
   ]
  },
  {
   "cell_type": "markdown",
   "metadata": {},
   "source": [
    "## Interpret ratings"
   ]
  },
  {
   "cell_type": "markdown",
   "metadata": {},
   "source": [
    "## Build Out An ALS Model"
   ]
  },
  {
   "cell_type": "code",
   "execution_count": 17,
   "metadata": {},
   "outputs": [],
   "source": [
    "# Import the required functions\n",
    "from pyspark.ml.evaluation import RegressionEvaluator\n",
    "from pyspark.ml.recommendation import ALS\n",
    "from pyspark.ml.tuning import ParamGridBuilder, CrossValidator"
   ]
  },
  {
   "cell_type": "code",
   "execution_count": 19,
   "metadata": {
    "scrolled": true
   },
   "outputs": [],
   "source": [
    "# data_quntitiy_1 = data0.withColumn('quantity', F.when(F.col(\"quantity\") != 1, 1).otherwise(F.col(\"quantity\")))\n",
    "# stages = []\n",
    "# stages += [data_quntitiy_1]\n",
    "\n",
    "# # Create test and train set\n",
    "# train = data.select('*').where(col('week_no') < 95)\n",
    "# test = data.select('*').where(col('week_no') >= 95)\n",
    "\n",
    "# # Create ALS model\n",
    "# als = ALS(userCol=\"user_id\", itemCol=\"item_id\", ratingCol=\"quantity\", nonnegative = True, implicitPrefs = True, coldStartStrategy=\"drop\")\n",
    "\n",
    "# stages += [als]\n",
    "\n",
    "# # evaluator = RegressionEvaluator(metricName=\"rmse\", labelCol=\"quantity\", predictionCol=\"prediction\") \n",
    "\n",
    "# # model = als.fit(train)\n",
    "\n",
    "# # View the predictions\n",
    "# # test_predictions = model.transform(test)\n",
    "# # RMSE = evaluator.evaluate(test_predictions)\n",
    "# # print(RMSE)\n",
    "\n",
    "# pipeline = Pipeline().setStages(stages)\n",
    "# pipelineModel = pipeline.fit(data)\n",
    "\n",
    "# #сохраняем модель на HDFS\n",
    "# pipelineModel.write().overwrite().save(\"/home/ksn38/models/als_pipline\")"
   ]
  },
  {
   "cell_type": "code",
   "execution_count": 10,
   "metadata": {},
   "outputs": [
    {
     "name": "stdout",
     "output_type": "stream",
     "text": [
      "+-------+---------+---+-------+--------+-----------+--------+-----------+-------+-----------+-----------------+------------+\n",
      "|user_id|basket_id|day|item_id|quantity|sales_value|store_id|retail_disc|week_no|coupon_disc|coupon_match_disc|  prediction|\n",
      "+-------+---------+---+-------+--------+-----------+--------+-----------+-------+-----------+-----------------+------------+\n",
      "|   2375|     null|  1|1004906|       1|       1.39|     364|       -0.6|      1|          0|              0.0|   1.0375035|\n",
      "|   2375|     null|  1|1033142|       1|       0.82|     364|        0.0|      1|          0|              0.0|  0.84694946|\n",
      "|   2375|     null|  1|1036325|       1|       0.99|     364|       -0.3|      1|          0|              0.0|  0.15830791|\n",
      "|   2375|     null|  1|1082185|       1|       1.21|     364|        0.0|      1|          0|              0.0|   1.4255048|\n",
      "|   2375|     null|  1|8160430|       1|        1.5|     364|      -0.39|      1|          0|              0.0|   0.1046671|\n",
      "|   2375|     null|  1| 826249|       1|       1.98|     364|       -0.6|      1|          0|              0.0|   1.1946449|\n",
      "|   2375|     null|  1|1043142|       1|       1.57|     364|      -0.68|      1|          0|              0.0| 0.041684374|\n",
      "|   2375|     null|  1|1085983|       1|       2.99|     364|       -0.4|      1|          0|              0.0|  0.15802284|\n",
      "|   2375|     null|  1|1102651|       1|       1.89|     364|        0.0|      1|          0|              0.0|  0.04890942|\n",
      "|   2375|     null|  1|6423775|       1|        2.0|     364|      -0.79|      1|          0|              0.0| 0.018462485|\n",
      "|   2375|     null|  1|9487839|       1|        2.0|     364|      -0.79|      1|          0|              0.0| 0.008742565|\n",
      "|   1364|     null|  1| 842930|       1|       2.19|   31742|        0.0|      1|          0|              0.0|  0.08807753|\n",
      "|   1364|     null|  1| 897044|       1|       2.99|   31742|       -0.4|      1|          0|              0.0| 0.084038325|\n",
      "|   1364|     null|  1| 920955|       1|       3.09|   31742|        0.0|      1|          0|              0.0|0.0026561976|\n",
      "|   1364|     null|  1| 937406|       1|        2.5|   31742|      -0.99|      1|          0|              0.0| 0.050141275|\n",
      "|   1364|     null|  1| 981760|       1|        0.6|   31742|      -0.79|      1|          0|              0.0|   1.3693397|\n",
      "|   1130|     null|  1| 833715|       1|       0.34|   31642|      -0.32|      1|          0|              0.0|   0.9431364|\n",
      "|   1130|     null|  1| 866950|       1|       0.34|   31642|      -0.32|      1|          0|              0.0|   0.9093736|\n",
      "|   1130|     null|  1|1022843|       1|       0.34|   31642|      -0.32|      1|          0|              0.0|  0.71674424|\n",
      "|   1130|     null|  1|1048462|       1|       1.19|   31642|       -0.8|      1|          0|              0.0|  0.83626324|\n",
      "+-------+---------+---+-------+--------+-----------+--------+-----------+-------+-----------+-----------------+------------+\n",
      "only showing top 20 rows\n",
      "\n"
     ]
    }
   ],
   "source": [
    "pipeline_model = PipelineModel.load(\"/home/ksn38/models/als_pipline\")\n",
    "predict = pipeline_model.transform(data)\n",
    "predict.show()"
   ]
  },
  {
   "cell_type": "code",
   "execution_count": 18,
   "metadata": {},
   "outputs": [
    {
     "data": {
      "text/plain": [
       "pyspark.ml.recommendation.ALS"
      ]
     },
     "execution_count": 18,
     "metadata": {},
     "output_type": "execute_result"
    }
   ],
   "source": [
    "# Create test and train set\n",
    "train = data.select('*').where(col('week_no') < 95)\n",
    "test = data.select('*').where(col('week_no') >= 95)\n",
    "\n",
    "# Create ALS model\n",
    "als = ALS(userCol=\"user_id\", itemCol=\"item_id\", ratingCol=\"quantity\", nonnegative = True, implicitPrefs = True, coldStartStrategy=\"drop\")\n",
    "\n",
    "# Confirm that a model called \"als\" was created\n",
    "type(als)"
   ]
  },
  {
   "cell_type": "code",
   "execution_count": 18,
   "metadata": {},
   "outputs": [
    {
     "data": {
      "text/plain": [
       "227995"
      ]
     },
     "execution_count": 18,
     "metadata": {},
     "output_type": "execute_result"
    }
   ],
   "source": [
    "test.count()"
   ]
  },
  {
   "cell_type": "markdown",
   "metadata": {},
   "source": [
    "## Tell Spark how to tune your ALS model"
   ]
  },
  {
   "cell_type": "code",
   "execution_count": 15,
   "metadata": {},
   "outputs": [
    {
     "name": "stdout",
     "output_type": "stream",
     "text": [
      "Num models to be tested:  16\n"
     ]
    }
   ],
   "source": [
    "# Import the requisite items\n",
    "from pyspark.ml.evaluation import RegressionEvaluator\n",
    "from pyspark.ml.tuning import ParamGridBuilder, CrossValidator\n",
    "\n",
    "# Add hyperparameters and their respective values to param_grid\n",
    "param_grid = ParamGridBuilder() \\\n",
    "            .addGrid(als.rank, [10, 50, 100, 150]) \\\n",
    "            .addGrid(als.regParam, [.01, .05, .1, .15]) \\\n",
    "            .build()\n",
    "            #             .addGrid(als.maxIter, [5, 50, 100, 200]) \\\n",
    "\n",
    "           \n",
    "# Define evaluator as RMSE and print length of evaluator\n",
    "evaluator = RegressionEvaluator(metricName=\"rmse\", labelCol=\"quantity\", predictionCol=\"prediction\") \n",
    "print (\"Num models to be tested: \", len(param_grid))"
   ]
  },
  {
   "cell_type": "markdown",
   "metadata": {},
   "source": [
    "## Build your cross validation pipeline"
   ]
  },
  {
   "cell_type": "code",
   "execution_count": 16,
   "metadata": {},
   "outputs": [
    {
     "name": "stdout",
     "output_type": "stream",
     "text": [
      "CrossValidator_21b7e9f6ee28\n"
     ]
    }
   ],
   "source": [
    "# Build cross validation using CrossValidator\n",
    "cv = CrossValidator(estimator=als, estimatorParamMaps=param_grid, evaluator=evaluator, numFolds=5)\n",
    "\n",
    "# Confirm cv was built\n",
    "print(cv)"
   ]
  },
  {
   "cell_type": "markdown",
   "metadata": {},
   "source": [
    "## Best Model and Best Model Parameters"
   ]
  },
  {
   "cell_type": "code",
   "execution_count": 17,
   "metadata": {},
   "outputs": [],
   "source": [
    "import time\n",
    "\n",
    "t1 = time.time()"
   ]
  },
  {
   "cell_type": "code",
   "execution_count": 18,
   "metadata": {},
   "outputs": [],
   "source": [
    "#Fit cross validator to the 'train' dataset\n",
    "model = cv.fit(train)\n",
    "\n",
    "#Extract best model from the cv model above\n",
    "best_model = model.bestModel"
   ]
  },
  {
   "cell_type": "code",
   "execution_count": 19,
   "metadata": {},
   "outputs": [
    {
     "data": {
      "text/plain": [
       "10333.542170524597"
      ]
     },
     "execution_count": 19,
     "metadata": {},
     "output_type": "execute_result"
    }
   ],
   "source": [
    "time.time() - t1"
   ]
  },
  {
   "cell_type": "code",
   "execution_count": 20,
   "metadata": {},
   "outputs": [
    {
     "name": "stdout",
     "output_type": "stream",
     "text": [
      "<class 'pyspark.ml.recommendation.ALSModel'>\n",
      "**Best Model**\n",
      "  Rank: 150\n",
      "  MaxIter: 10\n",
      "  RegParam: 0.1\n"
     ]
    }
   ],
   "source": [
    "\n",
    "# Print best_model\n",
    "print(type(best_model))\n",
    "\n",
    "# Complete the code below to extract the ALS model parameters\n",
    "print(\"**Best Model**\")\n",
    "\n",
    "# # Print \"Rank\"\n",
    "print(\"  Rank:\", best_model._java_obj.parent().getRank())\n",
    "\n",
    "# Print \"MaxIter\"\n",
    "print(\"  MaxIter:\", best_model._java_obj.parent().getMaxIter())\n",
    "\n",
    "# Print \"RegParam\"\n",
    "print(\"  RegParam:\", best_model._java_obj.parent().getRegParam())"
   ]
  },
  {
   "cell_type": "code",
   "execution_count": 21,
   "metadata": {
    "scrolled": true
   },
   "outputs": [
    {
     "name": "stdout",
     "output_type": "stream",
     "text": [
      "0.6947972112878122\n"
     ]
    }
   ],
   "source": [
    "# View the predictions\n",
    "test_predictions = best_model.transform(test)\n",
    "RMSE = evaluator.evaluate(test_predictions)\n",
    "print(RMSE)"
   ]
  },
  {
   "cell_type": "code",
   "execution_count": 22,
   "metadata": {},
   "outputs": [
    {
     "name": "stdout",
     "output_type": "stream",
     "text": [
      "+-------+---------+---+-------+--------+-----------+--------+-----------+-------+-----------+-----------------+-----------+\n",
      "|user_id|basket_id|day|item_id|quantity|sales_value|store_id|retail_disc|week_no|coupon_disc|coupon_match_disc| prediction|\n",
      "+-------+---------+---+-------+--------+-----------+--------+-----------+-------+-----------+-----------------+-----------+\n",
      "|   1001|     null|671| 201946|       1|        2.0|    3131|        0.0|     97|          0|              0.0| 0.23364751|\n",
      "|   1367|     null|697| 263031|       1|       3.67|    3234|      -0.62|    100|          0|              0.0| 0.19650017|\n",
      "|    916|     null|692| 582680|       1|        1.0|   32269|      -0.03|    100|          0|              0.0| 0.19861096|\n",
      "|    976|     null|682| 834738|       1|       1.59|     404|        0.0|     98|          0|              0.0|0.049238563|\n",
      "|   1924|     null|670| 835694|       1|        2.0|   31642|      -0.78|     96|          0|              0.0|  0.3250832|\n",
      "|    325|     null|665| 835694|       1|        1.0|     427|      -0.39|     96|          0|              0.0| 0.23825292|\n",
      "|    325|     null|692| 835694|       1|        1.0|     427|      -0.39|    100|          0|              0.0| 0.23825292|\n",
      "|   1968|     null|695| 835694|       1|        1.0|     321|      -0.39|    100|          0|              0.0|  0.1666959|\n",
      "|    719|     null|675| 835694|       1|        1.0|   32004|      -0.39|     97|          0|              0.0| 0.09108005|\n",
      "|   1317|     null|679| 835694|       1|       0.88|     359|      -0.51|     98|          0|              0.0| 0.13057116|\n",
      "|   1283|     null|695| 835694|       1|        1.0|     374|      -0.39|    100|          0|              0.0|0.034739118|\n",
      "|    304|     null|711| 835694|       1|        1.0|     322|      -0.39|    102|          0|              0.0|    0.56612|\n",
      "|   1629|     null|663| 835694|       1|       0.88|     288|      -0.51|     95|          0|              0.0|0.013841706|\n",
      "|    985|     null|667| 835694|       1|        1.0|     324|      -0.39|     96|          0|              0.0| 0.13821535|\n",
      "|   1526|     null|689| 835694|       1|        1.0|     324|      -0.39|     99|          0|              0.0| 0.18109736|\n",
      "|    707|     null|690| 838571|       1|        2.5|     429|      -1.19|     99|          0|              0.0| 0.46763092|\n",
      "|   1988|     null|667| 838571|       1|       3.69|     384|        0.0|     96|          0|              0.0| 0.12892133|\n",
      "|   2085|     null|658| 838571|       1|        2.0|     335|      -1.69|     95|          0|              0.0| 0.10599909|\n",
      "|   1490|     null|675| 838571|       1|       3.69|     367|        0.0|     97|          0|              0.0|0.121669136|\n",
      "|   2141|     null|694| 838571|       1|       3.69|     402|        0.0|    100|          0|              0.0| 0.05047585|\n",
      "+-------+---------+---+-------+--------+-----------+--------+-----------+-------+-----------+-----------------+-----------+\n",
      "only showing top 20 rows\n",
      "\n"
     ]
    }
   ],
   "source": [
    "test_predictions.show()"
   ]
  },
  {
   "cell_type": "markdown",
   "metadata": {},
   "source": [
    "## Make Recommendations"
   ]
  },
  {
   "cell_type": "code",
   "execution_count": 19,
   "metadata": {},
   "outputs": [
    {
     "ename": "AttributeError",
     "evalue": "'ALS' object has no attribute 'recommendForAllUsers'",
     "output_type": "error",
     "traceback": [
      "\u001b[0;31m---------------------------------------------------------------------------\u001b[0m",
      "\u001b[0;31mAttributeError\u001b[0m                            Traceback (most recent call last)",
      "\u001b[0;32m<ipython-input-19-3bbee59edc2e>\u001b[0m in \u001b[0;36m<module>\u001b[0;34m\u001b[0m\n\u001b[1;32m      1\u001b[0m \u001b[0;31m# Generate n Recommendations for all users\u001b[0m\u001b[0;34m\u001b[0m\u001b[0;34m\u001b[0m\u001b[0;34m\u001b[0m\u001b[0m\n\u001b[1;32m      2\u001b[0m \u001b[0;31m# nrecommendations = best_model.recommendForAllUsers(10)\u001b[0m\u001b[0;34m\u001b[0m\u001b[0;34m\u001b[0m\u001b[0;34m\u001b[0m\u001b[0m\n\u001b[0;32m----> 3\u001b[0;31m \u001b[0mnrecommendations\u001b[0m \u001b[0;34m=\u001b[0m \u001b[0mals\u001b[0m\u001b[0;34m.\u001b[0m\u001b[0mrecommendForAllUsers\u001b[0m\u001b[0;34m(\u001b[0m\u001b[0;36m10\u001b[0m\u001b[0;34m)\u001b[0m\u001b[0;34m\u001b[0m\u001b[0;34m\u001b[0m\u001b[0m\n\u001b[0m\u001b[1;32m      4\u001b[0m \u001b[0mnrecommendations\u001b[0m\u001b[0;34m.\u001b[0m\u001b[0mlimit\u001b[0m\u001b[0;34m(\u001b[0m\u001b[0;36m10\u001b[0m\u001b[0;34m)\u001b[0m\u001b[0;34m.\u001b[0m\u001b[0mshow\u001b[0m\u001b[0;34m(\u001b[0m\u001b[0;34m)\u001b[0m\u001b[0;34m\u001b[0m\u001b[0;34m\u001b[0m\u001b[0m\n",
      "\u001b[0;31mAttributeError\u001b[0m: 'ALS' object has no attribute 'recommendForAllUsers'"
     ]
    }
   ],
   "source": [
    "# Generate n Recommendations for all users\n",
    "# nrecommendations = best_model.recommendForAllUsers(10)\n",
    "nrecommendations = als.recommendForAllUsers(10)\n",
    "nrecommendations.limit(10).show()"
   ]
  },
  {
   "cell_type": "code",
   "execution_count": 24,
   "metadata": {},
   "outputs": [
    {
     "name": "stdout",
     "output_type": "stream",
     "text": [
      "+-------+-------+---------+\n",
      "|user_id|item_id|   rating|\n",
      "+-------+-------+---------+\n",
      "|   1580|1132770|1.4965022|\n",
      "|   1580| 985119| 1.388488|\n",
      "|   1580| 849843| 1.350776|\n",
      "|   1580|1033615|1.3180388|\n",
      "|   1580|1133018|1.3087683|\n",
      "|   1580| 831536|1.3003883|\n",
      "|   1580| 999971|1.2737457|\n",
      "|   1580|1113588|1.2625216|\n",
      "|   1580|1106523|1.2488129|\n",
      "|   1580| 920308|1.2384031|\n",
      "+-------+-------+---------+\n",
      "\n"
     ]
    }
   ],
   "source": [
    "nrecommendations = nrecommendations\\\n",
    "    .withColumn(\"rec_exp\", explode(\"recommendations\"))\\\n",
    "    .select('user_id', col(\"rec_exp.item_id\"), col(\"rec_exp.rating\"))\n",
    "\n",
    "nrecommendations.limit(10).show()"
   ]
  },
  {
   "cell_type": "markdown",
   "metadata": {},
   "source": [
    "## Do the recommendations make sense?\n",
    "Lets merge movie name and genres to teh recommendation matrix for interpretability."
   ]
  },
  {
   "cell_type": "code",
   "execution_count": 25,
   "metadata": {},
   "outputs": [],
   "source": [
    "# nrecommendations.join(item_id, on='item_id').filter('user_id = 100').show()"
   ]
  },
  {
   "cell_type": "code",
   "execution_count": 26,
   "metadata": {},
   "outputs": [],
   "source": [
    "# ratings.join(item_id, on='item_id').filter('user_id = 100').sort('rating', ascending=False).limit(10).show()"
   ]
  },
  {
   "cell_type": "code",
   "execution_count": null,
   "metadata": {},
   "outputs": [],
   "source": []
  },
  {
   "cell_type": "code",
   "execution_count": 4,
   "metadata": {},
   "outputs": [],
   "source": [
    "import findspark\n",
    "findspark.init()\n",
    "from pyspark.sql import SparkSession\n",
    "spark = SparkSession.builder.appName('load_model').getOrCreate()\n",
    "from pyspark.ml.recommendation import ALSModel\n",
    "from pyspark.sql.functions import col, explode\n",
    "\n",
    "als_loaded = ALSModel.load(\"/home/ksn38/models/als\")"
   ]
  },
  {
   "cell_type": "code",
   "execution_count": 2,
   "metadata": {},
   "outputs": [
    {
     "name": "stdout",
     "output_type": "stream",
     "text": [
      "+-------+--------------------+\n",
      "|user_id|     recommendations|\n",
      "+-------+--------------------+\n",
      "|    148|[[1029743, 0.9636...|\n",
      "|    463|[[1082185, 1.6825...|\n",
      "|    471|[[1082185, 1.2059...|\n",
      "|    496|[[1082185, 0.4776...|\n",
      "|    833|[[1029743, 1.1900...|\n",
      "|   1088|[[1033615, 1.0721...|\n",
      "|   1238|[[1082185, 1.6282...|\n",
      "|   1342|[[1082185, 0.0841...|\n",
      "|   1580|[[1132770, 1.4145...|\n",
      "|   1591|[[1082185, 1.7817...|\n",
      "+-------+--------------------+\n",
      "\n"
     ]
    }
   ],
   "source": [
    "nrecommendations = als_loaded.recommendForAllUsers(10)\n",
    "nrecommendations.limit(10).show()"
   ]
  },
  {
   "cell_type": "code",
   "execution_count": 5,
   "metadata": {},
   "outputs": [
    {
     "name": "stdout",
     "output_type": "stream",
     "text": [
      "+-------+-------+----------+\n",
      "|user_id|item_id|    rating|\n",
      "+-------+-------+----------+\n",
      "|    148|1029743|0.96365315|\n",
      "|    148|1082185|0.95911944|\n",
      "|    148|6534178| 0.9523209|\n",
      "|    148| 995242| 0.9407289|\n",
      "|    148|1106523| 0.8962258|\n",
      "|    148| 981760|0.84454596|\n",
      "|    148| 883404| 0.8280044|\n",
      "|    148|1133018| 0.8278022|\n",
      "|    148| 908531| 0.7916974|\n",
      "|    148| 826249| 0.7821322|\n",
      "+-------+-------+----------+\n",
      "\n"
     ]
    }
   ],
   "source": [
    "nrecommendations = nrecommendations\\\n",
    "    .withColumn(\"rec_exp\", explode(\"recommendations\"))\\\n",
    "    .select('user_id', col(\"rec_exp.item_id\"), col(\"rec_exp.rating\"))\n",
    "\n",
    "nrecommendations.limit(10).show()"
   ]
  },
  {
   "cell_type": "code",
   "execution_count": 20,
   "metadata": {},
   "outputs": [
    {
     "name": "stdout",
     "output_type": "stream",
     "text": [
      "+-------+--------------------+\n",
      "|user_id|     recommendations|\n",
      "+-------+--------------------+\n",
      "|    148|[[1029743, 0.9636...|\n",
      "|    463|[[1082185, 1.6825...|\n",
      "|    471|[[1082185, 1.2059...|\n",
      "|   1088|[[1033615, 1.0721...|\n",
      "|   1238|[[1082185, 1.6282...|\n",
      "|   1342|[[1082185, 0.0841...|\n",
      "|   1580|[[1132770, 1.4145...|\n",
      "|   1591|[[1082185, 1.7817...|\n",
      "|   1645|[[1082185, 0.2080...|\n",
      "|   1829|[[1082185, 1.8096...|\n",
      "|   1959|[[995242, 1.33693...|\n",
      "|   2122|[[1082185, 0.5202...|\n",
      "|   2142|[[951590, 1.77432...|\n",
      "|   2366|[[1029743, 1.6982...|\n",
      "|    243|[[1082185, 1.6905...|\n",
      "|    392|[[1082185, 1.7403...|\n",
      "|    540|[[1082185, 1.3069...|\n",
      "|    623|[[995242, 1.45607...|\n",
      "|    858|[[1082185, 0.7262...|\n",
      "|    897|[[1082185, 0.6857...|\n",
      "+-------+--------------------+\n",
      "only showing top 20 rows\n",
      "\n"
     ]
    }
   ],
   "source": [
    "# train.select('user_id').distinct().count()\n",
    "\n",
    "nrecommendations = als_loaded.recommendForUserSubset(test, 5)\n",
    "nrecommendations.show()"
   ]
  },
  {
   "cell_type": "code",
   "execution_count": null,
   "metadata": {},
   "outputs": [],
   "source": []
  }
 ],
 "metadata": {
  "kernelspec": {
   "display_name": "Python 3",
   "language": "python",
   "name": "python3"
  },
  "language_info": {
   "codemirror_mode": {
    "name": "ipython",
    "version": 3
   },
   "file_extension": ".py",
   "mimetype": "text/x-python",
   "name": "python",
   "nbconvert_exporter": "python",
   "pygments_lexer": "ipython3",
   "version": "3.7.2"
  }
 },
 "nbformat": 4,
 "nbformat_minor": 4
}
