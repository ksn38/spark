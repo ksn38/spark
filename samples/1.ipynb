{
 "cells": [
  {
   "cell_type": "code",
   "execution_count": 0,
   "metadata": {
    "autoscroll": "auto"
   },
   "outputs": [],
   "source": [
    "%pyspark\n",
    "\n",
    "z.show(\n",
    "    spark.table(\"homework.bank\").\\\n",
    "    groupBy(\"age\").\\\n",
    "    count()\n",
    "    )"
   ]
  },
  {
   "cell_type": "code",
   "execution_count": 1,
   "metadata": {
    "autoscroll": "auto"
   },
   "outputs": [],
   "source": [
    "%pyspark\n",
    "max_age = z.textbox('max_age')\n",
    "\n",
    "z.show(\n",
    "    spark.table(\"homework.bank\").\\\n",
    "    where('age < {}'.format(max_age)).\\\n",
    "    groupBy(\"age\").\\\n",
    "    count()\n",
    "    )"
   ]
  },
  {
   "cell_type": "code",
   "execution_count": 2,
   "metadata": {
    "autoscroll": "auto"
   },
   "outputs": [],
   "source": [
    "%pyspark\n",
    "marital = z.select('marital', [('married', 'married'), ('single', 'single')])\n",
    "\n",
    "z.show(\n",
    "    spark.table(\"homework.bank\").\\\n",
    "    where('marital = \"{}\"'.format(marital)).\\\n",
    "    groupBy(\"age\").\\\n",
    "    count()\n",
    "    )\n"
   ]
  },
  {
   "cell_type": "code",
   "execution_count": 3,
   "metadata": {
    "autoscroll": "auto"
   },
   "outputs": [],
   "source": [
    "%pyspark\n",
    "\n",
    "df = spark.table(\"homework.bank\")\n",
    "z.show(df)"
   ]
  },
  {
   "cell_type": "raw",
   "metadata": {
    "format": "text/plain"
   },
   "source": [
    "%pyspark\n"
   ]
  }
 ],
 "metadata": {
  "kernelspec": {
   "display_name": "spylon-kernel",
   "language": "scala",
   "name": "spylon-kernel"
  },
  "language_info": {
   "codemirror_mode": "text/x-scala",
   "file_extension": ".scala",
   "help_links": [
    {
     "text": "MetaKernel Magics",
     "url": "https://metakernel.readthedocs.io/en/latest/source/README.html"
    }
   ],
   "mimetype": "text/x-scala",
   "name": "scala",
   "pygments_lexer": "scala",
   "version": "0.4.1"
  },
  "name": "1"
 },
 "nbformat": 4,
 "nbformat_minor": 2
}
