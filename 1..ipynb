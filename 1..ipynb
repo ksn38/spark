﻿{
  "metadata": {
    "name": "1",
    "kernelspec": {
      "language": "scala",
      "name": "spark2-scala"
    },
    "language_info": {
      "codemirror_mode": "text/x-scala",
      "file_extension": ".scala",
      "mimetype": "text/x-scala",
      "name": "scala",
      "pygments_lexer": "scala"
    }
  },
  "nbformat": 4,
  "nbformat_minor": 2,
  "cells": [
    {
      "cell_type": "code",
      "execution_count": 0,
      "metadata": {
        "autoscroll": "auto"
      },
      "outputs": [],
      "source": "%pyspark\n\nz.show(\n    spark.table(\"homework.bank\").\\\n    groupBy(\"age\").\\\n    count()\n    )"
    },
    {
      "cell_type": "code",
      "execution_count": 1,
      "metadata": {
        "autoscroll": "auto"
      },
      "outputs": [],
      "source": "%pyspark\nmax_age \u003d z.textbox(\u0027max_age\u0027)\n\nz.show(\n    spark.table(\"homework.bank\").\\\n    where(\u0027age \u003c {}\u0027.format(max_age)).\\\n    groupBy(\"age\").\\\n    count()\n    )"
    },
    {
      "cell_type": "code",
      "execution_count": 2,
      "metadata": {
        "autoscroll": "auto"
      },
      "outputs": [],
      "source": "%pyspark\nmarital \u003d z.select(\u0027marital\u0027, [(\u0027married\u0027, \u0027married\u0027), (\u0027single\u0027, \u0027single\u0027)])\n\nz.show(\n    spark.table(\"homework.bank\").\\\n    where(\u0027marital \u003d \"{}\"\u0027.format(marital)).\\\n    groupBy(\"age\").\\\n    count()\n    )\n"
    },
    {
      "cell_type": "code",
      "execution_count": 3,
      "metadata": {
        "autoscroll": "auto"
      },
      "outputs": [],
      "source": "%pyspark\n\ndf \u003d spark.table(\"homework.bank\")\nz.show(df)"
    },
    {
      "cell_type": "raw",
      "metadata": {
        "format": "text/plain"
      },
      "source": "%pyspark\n"
    }
  ]
}