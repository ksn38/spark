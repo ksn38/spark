{
 "cells": [
  {
   "cell_type": "code",
   "execution_count": 62,
   "metadata": {},
   "outputs": [],
   "source": [
    "import findspark\n",
    "findspark.init()\n",
    "import pandas as pd\n",
    "from pyspark.sql.functions import col, explode\n",
    "from pyspark import SparkContext\n",
    "from pyspark.sql import functions as F"
   ]
  },
  {
   "cell_type": "markdown",
   "metadata": {},
   "source": [
    "### Initiate spark session"
   ]
  },
  {
   "cell_type": "code",
   "execution_count": 34,
   "metadata": {},
   "outputs": [],
   "source": [
    "from pyspark.sql import SparkSession\n",
    "sc = SparkContext\n",
    "# sc.setCheckpointDir('checkpoint')\n",
    "spark = SparkSession.builder.appName('Recommendations').getOrCreate()"
   ]
  },
  {
   "cell_type": "markdown",
   "metadata": {},
   "source": [
    "# 1. Load data"
   ]
  },
  {
   "cell_type": "code",
   "execution_count": 35,
   "metadata": {},
   "outputs": [
    {
     "name": "stdout",
     "output_type": "stream",
     "text": [
      "+-------+-----------+---+-------+--------+-----------+--------+-----------+----------+-------+-----------+-----------------+\n",
      "|user_id|  basket_id|day|item_id|quantity|sales_value|store_id|retail_disc|trans_time|week_no|coupon_disc|coupon_match_disc|\n",
      "+-------+-----------+---+-------+--------+-----------+--------+-----------+----------+-------+-----------+-----------------+\n",
      "|   2375|26984851472|  1|1004906|       1|       1.39|     364|       -0.6|      1631|      1|          0|                0|\n",
      "|   2375|26984851472|  1|1033142|       1|       0.82|     364|          0|      1631|      1|          0|                0|\n",
      "|   2375|26984851472|  1|1036325|       1|       0.99|     364|       -0.3|      1631|      1|          0|                0|\n",
      "+-------+-----------+---+-------+--------+-----------+--------+-----------+----------+-------+-----------+-----------------+\n",
      "only showing top 3 rows\n",
      "\n"
     ]
    }
   ],
   "source": [
    "data = spark.read.csv(\"/home/ksn38/data/transaction_data.csv\", header=True)\n",
    "data = data.toDF(*[col.lower() for col in data.columns])\n",
    "data = data.withColumnRenamed('product_id','item_id').withColumnRenamed('household_key','user_id')\n",
    "data.show(3)"
   ]
  },
  {
   "cell_type": "code",
   "execution_count": 36,
   "metadata": {},
   "outputs": [
    {
     "name": "stdout",
     "output_type": "stream",
     "text": [
      "root\n",
      " |-- user_id: string (nullable = true)\n",
      " |-- basket_id: string (nullable = true)\n",
      " |-- day: string (nullable = true)\n",
      " |-- item_id: string (nullable = true)\n",
      " |-- quantity: string (nullable = true)\n",
      " |-- sales_value: string (nullable = true)\n",
      " |-- store_id: string (nullable = true)\n",
      " |-- retail_disc: string (nullable = true)\n",
      " |-- trans_time: string (nullable = true)\n",
      " |-- week_no: string (nullable = true)\n",
      " |-- coupon_disc: string (nullable = true)\n",
      " |-- coupon_match_disc: string (nullable = true)\n",
      "\n"
     ]
    }
   ],
   "source": [
    "data.printSchema()"
   ]
  },
  {
   "cell_type": "code",
   "execution_count": 37,
   "metadata": {},
   "outputs": [
    {
     "name": "stdout",
     "output_type": "stream",
     "text": [
      "+-------+---------+---+-------+--------+-----------+--------+-----------+-------+-----------+-----------------+\n",
      "|user_id|basket_id|day|item_id|quantity|sales_value|store_id|retail_disc|week_no|coupon_disc|coupon_match_disc|\n",
      "+-------+---------+---+-------+--------+-----------+--------+-----------+-------+-----------+-----------------+\n",
      "|   2375|     null|  1|1004906|       1|       1.39|     364|       -0.6|      1|          0|              0.0|\n",
      "|   2375|     null|  1|1033142|       1|       0.82|     364|        0.0|      1|          0|              0.0|\n",
      "|   2375|     null|  1|1036325|       1|       0.99|     364|       -0.3|      1|          0|              0.0|\n",
      "+-------+---------+---+-------+--------+-----------+--------+-----------+-------+-----------+-----------------+\n",
      "only showing top 3 rows\n",
      "\n"
     ]
    }
   ],
   "source": [
    "data = data.\\\n",
    "    withColumn('user_id', col('user_id').cast('integer')).\\\n",
    "    withColumn('basket_id', col('basket_id').cast('integer')).\\\n",
    "    withColumn('day', col('day').cast('integer')).\\\n",
    "    withColumn('item_id', col('item_id').cast('integer')).\\\n",
    "    withColumn('quantity', col('quantity').cast('integer')).\\\n",
    "    withColumn('sales_value', col('sales_value').cast('float')).\\\n",
    "    withColumn('store_id', col('store_id').cast('integer')).\\\n",
    "    withColumn('retail_disc', col('retail_disc').cast('float')).\\\n",
    "    withColumn('week_no', col('week_no').cast('integer')).\\\n",
    "    withColumn('coupon_disc', col('coupon_disc').cast('integer')).\\\n",
    "    withColumn('coupon_match_disc', col('coupon_match_disc').cast('float')).\\\n",
    "    drop('trans_time')\n",
    "data.show(3)"
   ]
  },
  {
   "cell_type": "code",
   "execution_count": 38,
   "metadata": {},
   "outputs": [
    {
     "name": "stdout",
     "output_type": "stream",
     "text": [
      "+-------+------------------+---------+------------------+-----------------+------------------+------------------+-----------------+-------------------+------------------+--------------------+--------------------+\n",
      "|summary|           user_id|basket_id|               day|          item_id|          quantity|       sales_value|         store_id|        retail_disc|           week_no|         coupon_disc|   coupon_match_disc|\n",
      "+-------+------------------+---------+------------------+-----------------+------------------+------------------+-----------------+-------------------+------------------+--------------------+--------------------+\n",
      "|  count|           2595732|        0|           2595732|          2595732|           2595732|           2595732|          2595732|            2595732|           2595732|             2595732|             2595732|\n",
      "|   mean|1271.9525170549193|     null| 388.7562217517063|2891435.159594673| 100.4285581100052|3.1041197828967073|3142.673210870768|-0.5387053984379715|56.221498983716344|-0.01199122251449...|-0.00291856400251...|\n",
      "| stddev|  726.065964887359|     null|189.72099531194107|3837403.688955565|1153.4362109716324| 4.182274102707209|8937.113295657933|  1.249191441884955| 27.10222789961069| 0.19959461770023212|  0.0396900430309949|\n",
      "|    min|                 1|     null|                 1|            25671|                 0|               0.0|                1|             -180.0|                 1|                 -55|                -7.7|\n",
      "|    max|              2500|     null|               711|         18316298|             89638|             840.0|            34280|               3.99|               102|                   0|                 0.0|\n",
      "+-------+------------------+---------+------------------+-----------------+------------------+------------------+-----------------+-------------------+------------------+--------------------+--------------------+\n",
      "\n"
     ]
    }
   ],
   "source": [
    "data.describe().show()"
   ]
  },
  {
   "cell_type": "code",
   "execution_count": 39,
   "metadata": {},
   "outputs": [
    {
     "data": {
      "image/png": "[encoded data removed]",
      "text/plain": [
       "<Figure size 432x288 with 1 Axes>"
      ]
     },
     "metadata": {
      "needs_background": "light"
     },
     "output_type": "display_data"
    }
   ],
   "source": [
    "# import matplotlib.pyplot as plt\n",
    "\n",
    "# quantity_arr = [int(x.quantity) for x in data.select('quantity').where(col('quantity') < 3).collect()]\n",
    "# plt.boxplot(quantity_arr, vert=False)\n",
    "# plt.show()"
   ]
  },
  {
   "cell_type": "code",
   "execution_count": 65,
   "metadata": {},
   "outputs": [
    {
     "data": {
      "text/plain": [
       "0.0"
      ]
     },
     "execution_count": 65,
     "metadata": {},
     "output_type": "execute_result"
    }
   ],
   "source": [
    "data2.select('quantity').where(col('quantity') < 1).count()/data.select('quantity').count()"
   ]
  },
  {
   "cell_type": "code",
   "execution_count": null,
   "metadata": {},
   "outputs": [],
   "source": [
    "res = res.withColumn(\"col2\", F.when(F.col(\"col2\")==0, 100).otherwise(F.col(\"col2\")))"
   ]
  },
  {
   "cell_type": "code",
   "execution_count": 63,
   "metadata": {},
   "outputs": [
    {
     "name": "stdout",
     "output_type": "stream",
     "text": [
      "+-------+---------+---+-------+--------+-----------+--------+-----------+-------+-----------+-----------------+\n",
      "|user_id|basket_id|day|item_id|quantity|sales_value|store_id|retail_disc|week_no|coupon_disc|coupon_match_disc|\n",
      "+-------+---------+---+-------+--------+-----------+--------+-----------+-------+-----------+-----------------+\n",
      "|   2375|     null|  1|1004906|       1|       1.39|     364|       -0.6|      1|          0|              0.0|\n",
      "|   2375|     null|  1|1033142|       1|       0.82|     364|        0.0|      1|          0|              0.0|\n",
      "|   2375|     null|  1|1036325|       1|       0.99|     364|       -0.3|      1|          0|              0.0|\n",
      "|   2375|     null|  1|1082185|       1|       1.21|     364|        0.0|      1|          0|              0.0|\n",
      "|   2375|     null|  1|8160430|       1|        1.5|     364|      -0.39|      1|          0|              0.0|\n",
      "|   2375|     null|  1| 826249|       1|       1.98|     364|       -0.6|      1|          0|              0.0|\n",
      "|   2375|     null|  1|1043142|       1|       1.57|     364|      -0.68|      1|          0|              0.0|\n",
      "|   2375|     null|  1|1085983|       1|       2.99|     364|       -0.4|      1|          0|              0.0|\n",
      "|   2375|     null|  1|1102651|       1|       1.89|     364|        0.0|      1|          0|              0.0|\n",
      "|   2375|     null|  1|6423775|       1|        2.0|     364|      -0.79|      1|          0|              0.0|\n",
      "|   2375|     null|  1|9487839|       1|        2.0|     364|      -0.79|      1|          0|              0.0|\n",
      "|   1364|     null|  1| 842930|       1|       2.19|   31742|        0.0|      1|          0|              0.0|\n",
      "|   1364|     null|  1| 897044|       1|       2.99|   31742|       -0.4|      1|          0|              0.0|\n",
      "|   1364|     null|  1| 920955|       1|       3.09|   31742|        0.0|      1|          0|              0.0|\n",
      "|   1364|     null|  1| 937406|       1|        2.5|   31742|      -0.99|      1|          0|              0.0|\n",
      "|   1364|     null|  1| 981760|       1|        0.6|   31742|      -0.79|      1|          0|              0.0|\n",
      "|   1130|     null|  1| 833715|       1|       0.34|   31642|      -0.32|      1|          0|              0.0|\n",
      "|   1130|     null|  1| 866950|       1|       0.34|   31642|      -0.32|      1|          0|              0.0|\n",
      "|   1130|     null|  1|1022843|       1|       0.34|   31642|      -0.32|      1|          0|              0.0|\n",
      "|   1130|     null|  1|1048462|       1|       1.19|   31642|       -0.8|      1|          0|              0.0|\n",
      "+-------+---------+---+-------+--------+-----------+--------+-----------+-------+-----------+-----------------+\n",
      "only showing top 20 rows\n",
      "\n"
     ]
    }
   ],
   "source": [
    "data2 = data.withColumn('quantity', F.when(F.col(\"quantity\") != 1, 1).otherwise(F.col(\"quantity\")))\n",
    "data2.show()"
   ]
  },
  {
   "cell_type": "code",
   "execution_count": 42,
   "metadata": {},
   "outputs": [],
   "source": [
    "data = data.limit(1000)"
   ]
  },
  {
   "cell_type": "code",
   "execution_count": 43,
   "metadata": {},
   "outputs": [],
   "source": [
    "# test_size_weeks = 7\n",
    "\n",
    "# data_train = data[data['week_no'] < data['week_no'].max() - val_lvl_1_size_weeks]\n",
    "# data_test = data[(data['week_no'] >= data['week_no'].max() - val_lvl_1_size_weeks)]"
   ]
  },
  {
   "cell_type": "markdown",
   "metadata": {},
   "source": [
    "## Calculate sparsity"
   ]
  },
  {
   "cell_type": "code",
   "execution_count": 44,
   "metadata": {},
   "outputs": [
    {
     "name": "stdout",
     "output_type": "stream",
     "text": [
      "numerator 1000\n",
      "num_users 57\n",
      "num_items 864\n",
      "denominator 49248\n",
      "The data dataframe is  97.97% empty.\n"
     ]
    }
   ],
   "source": [
    "# Count the total number of data in the dataset\n",
    "numerator = data.select(\"quantity\").count()\n",
    "print('numerator', numerator)\n",
    "\n",
    "# Count the number of distinct userIds and distinct movieIds\n",
    "num_users = data.select(\"user_id\").distinct().count()\n",
    "num_items = data.select(\"item_id\").distinct().count()\n",
    "print('num_users', num_users)\n",
    "print('num_items', num_items)\n",
    "\n",
    "# Set the denominator equal to the number of users multiplied by the number of movies\n",
    "denominator = num_users * num_items\n",
    "print('denominator', denominator)\n",
    "\n",
    "# Divide the numerator by the denominator\n",
    "sparsity = (1.0 - (numerator *1.0)/denominator)*100\n",
    "print(\"The data dataframe is \", \"%.2f\" % sparsity + \"% empty.\")"
   ]
  },
  {
   "cell_type": "markdown",
   "metadata": {},
   "source": [
    "## Interpret ratings"
   ]
  },
  {
   "cell_type": "markdown",
   "metadata": {},
   "source": [
    "## Build Out An ALS Model"
   ]
  },
  {
   "cell_type": "code",
   "execution_count": 45,
   "metadata": {},
   "outputs": [],
   "source": [
    "# Import the required functions\n",
    "from pyspark.ml.evaluation import RegressionEvaluator\n",
    "from pyspark.ml.recommendation import ALS\n",
    "from pyspark.ml.tuning import ParamGridBuilder, CrossValidator"
   ]
  },
  {
   "cell_type": "code",
   "execution_count": 46,
   "metadata": {},
   "outputs": [
    {
     "data": {
      "text/plain": [
       "pyspark.ml.recommendation.ALS"
      ]
     },
     "execution_count": 46,
     "metadata": {},
     "output_type": "execute_result"
    }
   ],
   "source": [
    "# Create test and train set\n",
    "(train, test) = data.randomSplit([0.8, 0.2], seed = 1234)\n",
    "\n",
    "# Create ALS model\n",
    "als = ALS(userCol=\"user_id\", itemCol=\"item_id\", ratingCol=\"quantity\", nonnegative = True, implicitPrefs = False, coldStartStrategy=\"drop\")\n",
    "\n",
    "# Confirm that a model called \"als\" was created\n",
    "type(als)"
   ]
  },
  {
   "cell_type": "markdown",
   "metadata": {},
   "source": [
    "## Tell Spark how to tune your ALS model"
   ]
  },
  {
   "cell_type": "code",
   "execution_count": 47,
   "metadata": {},
   "outputs": [
    {
     "name": "stdout",
     "output_type": "stream",
     "text": [
      "Num models to be tested:  16\n"
     ]
    }
   ],
   "source": [
    "# Import the requisite items\n",
    "from pyspark.ml.evaluation import RegressionEvaluator\n",
    "from pyspark.ml.tuning import ParamGridBuilder, CrossValidator\n",
    "\n",
    "# Add hyperparameters and their respective values to param_grid\n",
    "param_grid = ParamGridBuilder() \\\n",
    "            .addGrid(als.rank, [10, 50, 100, 150]) \\\n",
    "            .addGrid(als.regParam, [.01, .05, .1, .15]) \\\n",
    "            .build()\n",
    "            #             .addGrid(als.maxIter, [5, 50, 100, 200]) \\\n",
    "\n",
    "           \n",
    "# Define evaluator as RMSE and print length of evaluator\n",
    "evaluator = RegressionEvaluator(metricName=\"rmse\", labelCol=\"quantity\", predictionCol=\"prediction\") \n",
    "print (\"Num models to be tested: \", len(param_grid))"
   ]
  },
  {
   "cell_type": "markdown",
   "metadata": {},
   "source": [
    "## Build your cross validation pipeline"
   ]
  },
  {
   "cell_type": "code",
   "execution_count": 48,
   "metadata": {},
   "outputs": [
    {
     "name": "stdout",
     "output_type": "stream",
     "text": [
      "CrossValidator_c204a7949e29\n"
     ]
    }
   ],
   "source": [
    "# Build cross validation using CrossValidator\n",
    "cv = CrossValidator(estimator=als, estimatorParamMaps=param_grid, evaluator=evaluator, numFolds=5)\n",
    "\n",
    "# Confirm cv was built\n",
    "print(cv)"
   ]
  },
  {
   "cell_type": "markdown",
   "metadata": {},
   "source": [
    "## Best Model and Best Model Parameters"
   ]
  },
  {
   "cell_type": "code",
   "execution_count": 49,
   "metadata": {},
   "outputs": [],
   "source": [
    "import time\n",
    "\n",
    "t1 = time.time()"
   ]
  },
  {
   "cell_type": "code",
   "execution_count": 50,
   "metadata": {},
   "outputs": [],
   "source": [
    "#Fit cross validator to the 'train' dataset\n",
    "model = cv.fit(train)\n",
    "\n",
    "#Extract best model from the cv model above\n",
    "best_model = model.bestModel"
   ]
  },
  {
   "cell_type": "code",
   "execution_count": 51,
   "metadata": {},
   "outputs": [
    {
     "data": {
      "text/plain": [
       "467.4560887813568"
      ]
     },
     "execution_count": 51,
     "metadata": {},
     "output_type": "execute_result"
    }
   ],
   "source": [
    "time.time() - t1"
   ]
  },
  {
   "cell_type": "code",
   "execution_count": 52,
   "metadata": {},
   "outputs": [
    {
     "name": "stdout",
     "output_type": "stream",
     "text": [
      "<class 'pyspark.ml.recommendation.ALSModel'>\n",
      "**Best Model**\n",
      "  Rank: 50\n",
      "  MaxIter: 10\n",
      "  RegParam: 0.1\n"
     ]
    }
   ],
   "source": [
    "\n",
    "# Print best_model\n",
    "print(type(best_model))\n",
    "\n",
    "# Complete the code below to extract the ALS model parameters\n",
    "print(\"**Best Model**\")\n",
    "\n",
    "# # Print \"Rank\"\n",
    "print(\"  Rank:\", best_model._java_obj.parent().getRank())\n",
    "\n",
    "# Print \"MaxIter\"\n",
    "print(\"  MaxIter:\", best_model._java_obj.parent().getMaxIter())\n",
    "\n",
    "# Print \"RegParam\"\n",
    "print(\"  RegParam:\", best_model._java_obj.parent().getRegParam())"
   ]
  },
  {
   "cell_type": "code",
   "execution_count": 53,
   "metadata": {
    "scrolled": true
   },
   "outputs": [
    {
     "name": "stdout",
     "output_type": "stream",
     "text": [
      "0.7051436871967842\n"
     ]
    }
   ],
   "source": [
    "# View the predictions\n",
    "test_predictions = best_model.transform(test)\n",
    "RMSE = evaluator.evaluate(test_predictions)\n",
    "print(RMSE)"
   ]
  },
  {
   "cell_type": "code",
   "execution_count": 54,
   "metadata": {},
   "outputs": [
    {
     "name": "stdout",
     "output_type": "stream",
     "text": [
      "+-------+---------+---+-------+--------+-----------+--------+-----------+-------+-----------+-----------------+----------+\n",
      "|user_id|basket_id|day|item_id|quantity|sales_value|store_id|retail_disc|week_no|coupon_disc|coupon_match_disc|prediction|\n",
      "+-------+---------+---+-------+--------+-----------+--------+-----------+-------+-----------+-----------------+----------+\n",
      "|   1060|     null|  1|1131488|       1|       3.19|     315|       -0.8|      1|          0|              0.0|0.66748506|\n",
      "|   1345|     null|  3| 854852|       1|       3.77|   32004|        0.0|      1|          0|              0.0| 0.8181854|\n",
      "|    568|     null|  4| 834484|       1|        0.5|     446|        0.0|      1|          0|              0.0| 1.2999085|\n",
      "|   2324|     null|  3| 889774|       2|       1.19|   32004|      -1.19|      1|          0|              0.0|0.49514022|\n",
      "|    293|     null|  3|1130858|       2|        4.0|     296|      -3.38|      1|          0|              0.0|0.63447934|\n",
      "|    293|     null|  3|1106523|       1|       2.49|     296|        0.0|      1|          0|              0.0|0.56917834|\n",
      "|    347|     null|  3| 923746|       1|       1.19|     367|       -0.4|      1|          0|              0.0| 0.8402709|\n",
      "|    718|     null|  1|1078652|       1|        2.0|     324|      -1.29|      1|          0|              0.0|0.46481228|\n",
      "|   1060|     null|  1| 904360|       1|       0.99|     315|        0.0|      1|          0|              0.0|0.85204613|\n",
      "|    347|     null|  3| 999971|       1|       0.99|     367|       -0.3|      1|          0|              0.0| 1.5165629|\n",
      "|    212|     null|  1|8177622|       1|       2.33|     288|      -2.26|      1|          0|              0.0| 0.7242777|\n",
      "|   1929|     null|  4| 898068|       1|       2.69|     441|        0.0|      1|          0|              0.0| 0.6820677|\n",
      "|    293|     null|  3| 923972|       1|       0.67|     296|        0.0|      1|          0|              0.0| 0.7271567|\n",
      "|    718|     null|  1| 976199|       2|        5.0|     324|      -2.18|      1|          0|              0.0| 0.5869024|\n",
      "|    293|     null|  3|5569230|       1|       2.33|     296|      -2.26|      1|          0|              0.0|0.52688175|\n",
      "|    718|     null|  1| 913785|       1|       0.99|     324|       -1.0|      1|          0|              0.0|0.34110585|\n",
      "|   1377|     null|  3|1043128|       1|       0.99|     323|       -0.5|      1|          0|              0.0| 1.2605429|\n",
      "|    212|     null|  1| 866211|       1|        2.7|     288|        0.0|      1|          0|              0.0|0.73763925|\n",
      "|   1929|     null|  4| 976998|       2|       1.18|     441|       -0.4|      1|          0|              0.0|0.76805574|\n",
      "|   1377|     null|  3|9798823|       2|        1.0|     323|        0.0|      1|          0|              0.0|0.46398705|\n",
      "+-------+---------+---+-------+--------+-----------+--------+-----------+-------+-----------+-----------------+----------+\n",
      "only showing top 20 rows\n",
      "\n"
     ]
    }
   ],
   "source": [
    "test_predictions.show()"
   ]
  },
  {
   "cell_type": "markdown",
   "metadata": {},
   "source": [
    "## Make Recommendations"
   ]
  },
  {
   "cell_type": "code",
   "execution_count": 55,
   "metadata": {},
   "outputs": [
    {
     "name": "stdout",
     "output_type": "stream",
     "text": [
      "+-------+--------------------+\n",
      "|user_id|     recommendations|\n",
      "+-------+--------------------+\n",
      "|   1238|[[9419779, 4.4278...|\n",
      "|    255|[[989075, 3.57142...|\n",
      "|   1016|[[839849, 5.70352...|\n",
      "|    593|[[989075, 4.42205...|\n",
      "|    744|[[824180, 0.0], [...|\n",
      "|   2052|[[989075, 2.78473...|\n",
      "|   2044|[[9419779, 5.4345...|\n",
      "|    271|[[989075, 3.91476...|\n",
      "|   2371|[[989075, 2.31232...|\n",
      "|    122|[[989075, 3.35840...|\n",
      "+-------+--------------------+\n",
      "\n"
     ]
    }
   ],
   "source": [
    "# Generate n Recommendations for all users\n",
    "nrecommendations = best_model.recommendForAllUsers(10)\n",
    "nrecommendations.limit(10).show()"
   ]
  },
  {
   "cell_type": "code",
   "execution_count": 56,
   "metadata": {},
   "outputs": [
    {
     "name": "stdout",
     "output_type": "stream",
     "text": [
      "+-------+-------+---------+\n",
      "|user_id|item_id|   rating|\n",
      "+-------+-------+---------+\n",
      "|   1238|9419779|  4.42782|\n",
      "|   1238| 989075|    4.306|\n",
      "|   1238| 848015| 4.131797|\n",
      "|   1238| 839849|3.0820353|\n",
      "|   1238|1028816| 2.314659|\n",
      "|   1238| 866518| 2.260816|\n",
      "|   1238|1013149|  2.21391|\n",
      "|   1238| 930187|  2.11073|\n",
      "|   1238| 901523| 2.085517|\n",
      "|   1238| 914190| 1.905213|\n",
      "+-------+-------+---------+\n",
      "\n"
     ]
    }
   ],
   "source": [
    "nrecommendations = nrecommendations\\\n",
    "    .withColumn(\"rec_exp\", explode(\"recommendations\"))\\\n",
    "    .select('user_id', col(\"rec_exp.item_id\"), col(\"rec_exp.rating\"))\n",
    "\n",
    "nrecommendations.limit(10).show()"
   ]
  },
  {
   "cell_type": "markdown",
   "metadata": {},
   "source": [
    "## Do the recommendations make sense?\n",
    "Lets merge movie name and genres to teh recommendation matrix for interpretability."
   ]
  },
  {
   "cell_type": "code",
   "execution_count": 57,
   "metadata": {},
   "outputs": [],
   "source": [
    "# nrecommendations.join(item_id, on='item_id').filter('user_id = 100').show()"
   ]
  },
  {
   "cell_type": "code",
   "execution_count": 58,
   "metadata": {},
   "outputs": [],
   "source": [
    "# ratings.join(item_id, on='item_id').filter('user_id = 100').sort('rating', ascending=False).limit(10).show()"
   ]
  },
  {
   "cell_type": "code",
   "execution_count": null,
   "metadata": {},
   "outputs": [],
   "source": []
  }
 ],
 "metadata": {
  "kernelspec": {
   "display_name": "Python 3",
   "language": "python",
   "name": "python3"
  },
  "language_info": {
   "codemirror_mode": {
    "name": "ipython",
    "version": 3
   },
   "file_extension": ".py",
   "mimetype": "text/x-python",
   "name": "python",
   "nbconvert_exporter": "python",
   "pygments_lexer": "ipython3",
   "version": "3.6.9"
  }
 },
 "nbformat": 4,
 "nbformat_minor": 4
}
